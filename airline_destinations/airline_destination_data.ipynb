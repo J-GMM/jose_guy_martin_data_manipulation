{
 "cells": [
  {
   "cell_type": "code",
   "execution_count": 1,
   "metadata": {},
   "outputs": [],
   "source": [
    "import pandas as pd\n",
    "import os"
   ]
  },
  {
   "cell_type": "code",
   "execution_count": 2,
   "metadata": {},
   "outputs": [],
   "source": [
    "# Combine separate airline sheets into one table. All sheets have identical columns.\n",
    "files = ['airline_destination_data/'+x for x in os.listdir('airline_destination_data/') if \".csv\" in x]\n",
    "airline_table = pd.DataFrame(columns=['Airline', 'Notes', 'icao'])\n",
    "for file in files:\n",
    "    airline_table = airline_table.append(pd.read_csv(file))"
   ]
  },
  {
   "cell_type": "code",
   "execution_count": 3,
   "metadata": {},
   "outputs": [],
   "source": [
    "# ICAO column is named 'ident' in the geocoded table.\n",
    "airline_table = airline_table.rename(columns={'icao':'ident'})\n",
    "\n",
    "# Join airports and airlines on ICAO code. This will generate duplicate rows that we will use to fill the Y/N table.\n",
    "airports_with_airlines = pd.merge(pd.read_csv('geodata/airports.csv'), airline_table, on=['ident'])"
   ]
  },
  {
   "cell_type": "code",
   "execution_count": 4,
   "metadata": {},
   "outputs": [],
   "source": [
    "# Create a new column for each airline, with N value by default.\n",
    "for airline in airports_with_airlines.Airline.unique():\n",
    "    airports_with_airlines[airline] = \"N\""
   ]
  },
  {
   "cell_type": "code",
   "execution_count": 5,
   "metadata": {},
   "outputs": [
    {
     "name": "stderr",
     "output_type": "stream",
     "text": [
      "<ipython-input-5-0bea6536d6d1>:6: SettingWithCopyWarning: \n",
      "A value is trying to be set on a copy of a slice from a DataFrame\n",
      "\n",
      "See the caveats in the documentation: https://pandas.pydata.org/pandas-docs/stable/user_guide/indexing.html#returning-a-view-versus-a-copy\n",
      "  airports_with_airlines[airline][idx] = \"Y\"\n"
     ]
    }
   ],
   "source": [
    "# Mark Y in each airline's column if they reach each airport.\n",
    "for airport in airports_with_airlines.name.unique():\n",
    "    airport_frame = airports_with_airlines[airports_with_airlines.name == airport]\n",
    "    for airline in airport_frame.Airline.unique():\n",
    "        for idx in airport_frame.index:\n",
    "            airports_with_airlines[airline][idx] = \"Y\"\n",
    "\n",
    "# Now that there is a column for each airline, we can drop duplicates by airport.\n",
    "airports_with_airlines = airports_with_airlines.drop_duplicates(subset=['name']).reset_index()"
   ]
  },
  {
   "cell_type": "code",
   "execution_count": 6,
   "metadata": {},
   "outputs": [],
   "source": [
    "# Count the number of airlines that reach each airport. Rename ident to ICAO for an upcoming join.\n",
    "airports_with_airlines['airline_count'] = 0\n",
    "for row in airports_with_airlines.index:\n",
    "    airports_with_airlines.loc[row, 'airline_count'] = \\\n",
    "    airports_with_airlines.iloc[row].tolist().count(\"Y\")\n",
    "airports_with_airlines = airports_with_airlines.rename(columns={'ident':'ICAO'})"
   ]
  },
  {
   "cell_type": "code",
   "execution_count": 7,
   "metadata": {},
   "outputs": [],
   "source": [
    "# Include hubs from data gathered and organized into hubs.csv\n",
    "hubs_included = pd.merge(pd.read_csv('airline_destination_data/hubs/hubs.csv'), airports_with_airlines, on=['ICAO'], how='outer')"
   ]
  },
  {
   "cell_type": "code",
   "execution_count": 8,
   "metadata": {},
   "outputs": [],
   "source": [
    "# Reorganize columns for readability\n",
    "hubs_included = hubs_included[['id', 'ICAO',\n",
    "       'type', 'name', 'Weight', 'latitude_deg', 'longitude_deg', 'elevation_ft',\n",
    "       'continent', 'iso_country', 'iso_region', 'municipality','Alaska Airlines', 'American Airlines',\n",
    "       'Allegiant Air', 'Frontier Airlines', 'JetBlue Airways',\n",
    "       'Delta Air Lines', 'United Airlines', 'SkyWest Airlines',\n",
    "       'Southwest Airlines', 'Hawaiian Airlines', 'airline_count']]\n",
    "hubs_included"
   ]
  },
  {
   "cell_type": "code",
   "execution_count": 10,
   "metadata": {},
   "outputs": [],
   "source": [
    "hubs_included.to_csv('geodata/airline_master_yntable.csv', index=False)"
   ]
  }
 ],
 "metadata": {
  "kernelspec": {
   "display_name": "Python 3",
   "language": "python",
   "name": "python3"
  },
  "language_info": {
   "codemirror_mode": {
    "name": "ipython",
    "version": 3
   },
   "file_extension": ".py",
   "mimetype": "text/x-python",
   "name": "python",
   "nbconvert_exporter": "python",
   "pygments_lexer": "ipython3",
   "version": "3.8.3"
  }
 },
 "nbformat": 4,
 "nbformat_minor": 4
}
